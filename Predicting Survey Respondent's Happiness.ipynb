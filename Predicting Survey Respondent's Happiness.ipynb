{
 "cells": [
  {
   "cell_type": "markdown",
   "metadata": {},
   "source": [
    "# Logistic Regression: Predicting Survey Respondent's Happiness\n",
    "\n",
    "### - Bassam Atheeque\n",
    "---"
   ]
  },
  {
   "cell_type": "markdown",
   "metadata": {},
   "source": [
    "## Data description: [Data Source](http://archive.ics.uci.edu/ml/datasets/Somerville+Happiness+Survey) from UCI Machine Learning Repository\n",
    "\n",
    "The City of Somerville sends out a happiness survey to a random sample of Somerville residents asking them to rate their personal happiness.\n",
    "\n",
    "**happy**: Whether the survey respondent is happy or not\n",
    "\n",
    "**city_services**: The availability of information about the city services\n",
    "\n",
    "**housing_cost**: The cost of housing\n",
    "\n",
    "**public_schools**: The overall quality of public schools\n",
    "\n",
    "**trust_police**: Your trust in the local police\n",
    "\n",
    "**streets_sidewalk**: The maintenance of streets and sidewalks\n",
    "\n",
    "**social_events**: The availability of social community events"
   ]
  },
  {
   "cell_type": "code",
   "execution_count": 1,
   "metadata": {},
   "outputs": [],
   "source": [
    "# Importing the libraries:\n",
    "\n",
    "import numpy as np\n",
    "import pandas as pd\n",
    "import matplotlib.pyplot as plt\n",
    "import seaborn as sns\n",
    "\n",
    "import warnings\n",
    "warnings.filterwarnings('ignore')"
   ]
  },
  {
   "cell_type": "code",
   "execution_count": 2,
   "metadata": {},
   "outputs": [],
   "source": [
    "emotion = pd.read_csv('./happiness.csv')"
   ]
  },
  {
   "cell_type": "code",
   "execution_count": 3,
   "metadata": {
    "scrolled": true
   },
   "outputs": [
    {
     "data": {
      "text/html": [
       "<div>\n",
       "<style scoped>\n",
       "    .dataframe tbody tr th:only-of-type {\n",
       "        vertical-align: middle;\n",
       "    }\n",
       "\n",
       "    .dataframe tbody tr th {\n",
       "        vertical-align: top;\n",
       "    }\n",
       "\n",
       "    .dataframe thead th {\n",
       "        text-align: right;\n",
       "    }\n",
       "</style>\n",
       "<table border=\"1\" class=\"dataframe\">\n",
       "  <thead>\n",
       "    <tr style=\"text-align: right;\">\n",
       "      <th></th>\n",
       "      <th>happy</th>\n",
       "      <th>city_services</th>\n",
       "      <th>housing_cost</th>\n",
       "      <th>public_schools</th>\n",
       "      <th>trust_police</th>\n",
       "      <th>streets_sidewalk</th>\n",
       "      <th>social_events</th>\n",
       "    </tr>\n",
       "  </thead>\n",
       "  <tbody>\n",
       "    <tr>\n",
       "      <th>0</th>\n",
       "      <td>No</td>\n",
       "      <td>3</td>\n",
       "      <td>2</td>\n",
       "      <td>3</td>\n",
       "      <td>4</td>\n",
       "      <td>2</td>\n",
       "      <td>4</td>\n",
       "    </tr>\n",
       "    <tr>\n",
       "      <th>1</th>\n",
       "      <td>No</td>\n",
       "      <td>3</td>\n",
       "      <td>2</td>\n",
       "      <td>3</td>\n",
       "      <td>3</td>\n",
       "      <td>4</td>\n",
       "      <td>3</td>\n",
       "    </tr>\n",
       "    <tr>\n",
       "      <th>2</th>\n",
       "      <td>Yes</td>\n",
       "      <td>5</td>\n",
       "      <td>3</td>\n",
       "      <td>5</td>\n",
       "      <td>3</td>\n",
       "      <td>5</td>\n",
       "      <td>5</td>\n",
       "    </tr>\n",
       "    <tr>\n",
       "      <th>3</th>\n",
       "      <td>No</td>\n",
       "      <td>2</td>\n",
       "      <td>4</td>\n",
       "      <td>3</td>\n",
       "      <td>3</td>\n",
       "      <td>3</td>\n",
       "      <td>5</td>\n",
       "    </tr>\n",
       "    <tr>\n",
       "      <th>4</th>\n",
       "      <td>No</td>\n",
       "      <td>5</td>\n",
       "      <td>4</td>\n",
       "      <td>3</td>\n",
       "      <td>1</td>\n",
       "      <td>3</td>\n",
       "      <td>5</td>\n",
       "    </tr>\n",
       "  </tbody>\n",
       "</table>\n",
       "</div>"
      ],
      "text/plain": [
       "  happy  city_services housing_cost public_schools trust_police  \\\n",
       "0    No              3            2              3            4   \n",
       "1    No              3            2              3            3   \n",
       "2   Yes              5            3              5            3   \n",
       "3    No              2            4              3            3   \n",
       "4    No              5            4              3            1   \n",
       "\n",
       "   streets_sidewalk  social_events  \n",
       "0                 2              4  \n",
       "1                 4              3  \n",
       "2                 5              5  \n",
       "3                 3              5  \n",
       "4                 3              5  "
      ]
     },
     "execution_count": 3,
     "metadata": {},
     "output_type": "execute_result"
    }
   ],
   "source": [
    "emotion.head()"
   ]
  },
  {
   "cell_type": "code",
   "execution_count": 4,
   "metadata": {},
   "outputs": [
    {
     "data": {
      "text/plain": [
       "Yes    77\n",
       "No     66\n",
       "Name: happy, dtype: int64"
      ]
     },
     "execution_count": 4,
     "metadata": {},
     "output_type": "execute_result"
    }
   ],
   "source": [
    "emotion['happy'].value_counts()"
   ]
  },
  {
   "cell_type": "code",
   "execution_count": 5,
   "metadata": {
    "scrolled": true
   },
   "outputs": [
    {
     "name": "stdout",
     "output_type": "stream",
     "text": [
      "53.85 % of the respondents in the data set were happy.\n"
     ]
    }
   ],
   "source": [
    "perc_happy = len(emotion[emotion['happy']=='Yes'])/len(emotion)\n",
    "\n",
    "print (round((perc_happy*100),2), '% of the respondents in the data set were happy.')"
   ]
  },
  {
   "cell_type": "markdown",
   "metadata": {},
   "source": [
    " "
   ]
  },
  {
   "cell_type": "markdown",
   "metadata": {},
   "source": [
    "### Checking for missing scores in the data:"
   ]
  },
  {
   "cell_type": "code",
   "execution_count": 6,
   "metadata": {},
   "outputs": [
    {
     "data": {
      "text/plain": [
       "happy               object\n",
       "city_services        int64\n",
       "housing_cost        object\n",
       "public_schools      object\n",
       "trust_police        object\n",
       "streets_sidewalk     int64\n",
       "social_events        int64\n",
       "dtype: object"
      ]
     },
     "execution_count": 6,
     "metadata": {},
     "output_type": "execute_result"
    }
   ],
   "source": [
    "emotion.dtypes"
   ]
  },
  {
   "cell_type": "markdown",
   "metadata": {},
   "source": [
    "#### Converting Object to Integers:"
   ]
  },
  {
   "cell_type": "code",
   "execution_count": 7,
   "metadata": {},
   "outputs": [],
   "source": [
    "emotion[['housing_cost', 'public_schools', 'trust_police']]=  emotion[['housing_cost',\n",
    "                                                                       'public_schools',\n",
    "                                                                       'trust_police']].apply(pd.to_numeric, \n",
    "                                                                                              errors='coerce', \n",
    "                                                                                              downcast='integer')"
   ]
  },
  {
   "cell_type": "code",
   "execution_count": 8,
   "metadata": {},
   "outputs": [
    {
     "data": {
      "text/plain": [
       "happy                object\n",
       "city_services         int64\n",
       "housing_cost        float64\n",
       "public_schools      float64\n",
       "trust_police        float64\n",
       "streets_sidewalk      int64\n",
       "social_events         int64\n",
       "dtype: object"
      ]
     },
     "execution_count": 8,
     "metadata": {},
     "output_type": "execute_result"
    }
   ],
   "source": [
    "# Reconfirming the data types.\n",
    "\n",
    "emotion.dtypes"
   ]
  },
  {
   "cell_type": "code",
   "execution_count": 9,
   "metadata": {
    "scrolled": true
   },
   "outputs": [
    {
     "data": {
      "text/plain": [
       "happy               0\n",
       "city_services       0\n",
       "housing_cost        1\n",
       "public_schools      1\n",
       "trust_police        2\n",
       "streets_sidewalk    0\n",
       "social_events       0\n",
       "dtype: int64"
      ]
     },
     "execution_count": 9,
     "metadata": {},
     "output_type": "execute_result"
    }
   ],
   "source": [
    "# Checking missing values\n",
    "\n",
    "emotion.isna().sum()"
   ]
  },
  {
   "cell_type": "code",
   "execution_count": 10,
   "metadata": {},
   "outputs": [
    {
     "data": {
      "text/plain": [
       "(143, 7)"
      ]
     },
     "execution_count": 10,
     "metadata": {},
     "output_type": "execute_result"
    }
   ],
   "source": [
    "emotion.shape"
   ]
  },
  {
   "cell_type": "code",
   "execution_count": 11,
   "metadata": {},
   "outputs": [],
   "source": [
    "#deleting empty rows\n",
    "\n",
    "emotion = emotion.dropna()"
   ]
  },
  {
   "cell_type": "code",
   "execution_count": 12,
   "metadata": {},
   "outputs": [
    {
     "data": {
      "text/plain": [
       "(140, 7)"
      ]
     },
     "execution_count": 12,
     "metadata": {},
     "output_type": "execute_result"
    }
   ],
   "source": [
    "emotion.shape"
   ]
  },
  {
   "cell_type": "markdown",
   "metadata": {},
   "source": [
    " "
   ]
  },
  {
   "cell_type": "markdown",
   "metadata": {},
   "source": [
    "### Using a pivot table to check the average scores (in each of the six categories) for the respondents who were happy and not happy."
   ]
  },
  {
   "cell_type": "code",
   "execution_count": 13,
   "metadata": {},
   "outputs": [
    {
     "data": {
      "text/html": [
       "<div>\n",
       "<style scoped>\n",
       "    .dataframe tbody tr th:only-of-type {\n",
       "        vertical-align: middle;\n",
       "    }\n",
       "\n",
       "    .dataframe tbody tr th {\n",
       "        vertical-align: top;\n",
       "    }\n",
       "\n",
       "    .dataframe thead th {\n",
       "        text-align: right;\n",
       "    }\n",
       "</style>\n",
       "<table border=\"1\" class=\"dataframe\">\n",
       "  <thead>\n",
       "    <tr style=\"text-align: right;\">\n",
       "      <th></th>\n",
       "      <th>happy</th>\n",
       "      <th>city_services</th>\n",
       "      <th>housing_cost</th>\n",
       "      <th>public_schools</th>\n",
       "      <th>trust_police</th>\n",
       "      <th>streets_sidewalk</th>\n",
       "      <th>social_events</th>\n",
       "    </tr>\n",
       "  </thead>\n",
       "  <tbody>\n",
       "    <tr>\n",
       "      <th>0</th>\n",
       "      <td>No</td>\n",
       "      <td>3</td>\n",
       "      <td>2.0</td>\n",
       "      <td>3.0</td>\n",
       "      <td>4.0</td>\n",
       "      <td>2</td>\n",
       "      <td>4</td>\n",
       "    </tr>\n",
       "    <tr>\n",
       "      <th>1</th>\n",
       "      <td>No</td>\n",
       "      <td>3</td>\n",
       "      <td>2.0</td>\n",
       "      <td>3.0</td>\n",
       "      <td>3.0</td>\n",
       "      <td>4</td>\n",
       "      <td>3</td>\n",
       "    </tr>\n",
       "  </tbody>\n",
       "</table>\n",
       "</div>"
      ],
      "text/plain": [
       "  happy  city_services  housing_cost  public_schools  trust_police  \\\n",
       "0    No              3           2.0             3.0           4.0   \n",
       "1    No              3           2.0             3.0           3.0   \n",
       "\n",
       "   streets_sidewalk  social_events  \n",
       "0                 2              4  \n",
       "1                 4              3  "
      ]
     },
     "execution_count": 13,
     "metadata": {},
     "output_type": "execute_result"
    }
   ],
   "source": [
    "emotion.head(2)"
   ]
  },
  {
   "cell_type": "code",
   "execution_count": 14,
   "metadata": {
    "scrolled": false
   },
   "outputs": [
    {
     "data": {
      "text/html": [
       "<div>\n",
       "<style scoped>\n",
       "    .dataframe tbody tr th:only-of-type {\n",
       "        vertical-align: middle;\n",
       "    }\n",
       "\n",
       "    .dataframe tbody tr th {\n",
       "        vertical-align: top;\n",
       "    }\n",
       "\n",
       "    .dataframe thead tr th {\n",
       "        text-align: left;\n",
       "    }\n",
       "\n",
       "    .dataframe thead tr:last-of-type th {\n",
       "        text-align: right;\n",
       "    }\n",
       "</style>\n",
       "<table border=\"1\" class=\"dataframe\">\n",
       "  <thead>\n",
       "    <tr>\n",
       "      <th></th>\n",
       "      <th colspan=\"6\" halign=\"left\">mean</th>\n",
       "    </tr>\n",
       "    <tr>\n",
       "      <th></th>\n",
       "      <th>city_services</th>\n",
       "      <th>housing_cost</th>\n",
       "      <th>public_schools</th>\n",
       "      <th>social_events</th>\n",
       "      <th>streets_sidewalk</th>\n",
       "      <th>trust_police</th>\n",
       "    </tr>\n",
       "    <tr>\n",
       "      <th>happy</th>\n",
       "      <th></th>\n",
       "      <th></th>\n",
       "      <th></th>\n",
       "      <th></th>\n",
       "      <th></th>\n",
       "      <th></th>\n",
       "    </tr>\n",
       "  </thead>\n",
       "  <tbody>\n",
       "    <tr>\n",
       "      <th>No</th>\n",
       "      <td>3.77</td>\n",
       "      <td>2.46</td>\n",
       "      <td>2.94</td>\n",
       "      <td>4.02</td>\n",
       "      <td>3.05</td>\n",
       "      <td>3.45</td>\n",
       "    </tr>\n",
       "    <tr>\n",
       "      <th>Yes</th>\n",
       "      <td>4.56</td>\n",
       "      <td>3.19</td>\n",
       "      <td>3.65</td>\n",
       "      <td>4.39</td>\n",
       "      <td>4.01</td>\n",
       "      <td>3.77</td>\n",
       "    </tr>\n",
       "  </tbody>\n",
       "</table>\n",
       "</div>"
      ],
      "text/plain": [
       "               mean                                            \\\n",
       "      city_services housing_cost public_schools social_events   \n",
       "happy                                                           \n",
       "No             3.77         2.46           2.94          4.02   \n",
       "Yes            4.56         3.19           3.65          4.39   \n",
       "\n",
       "                                     \n",
       "      streets_sidewalk trust_police  \n",
       "happy                                \n",
       "No                3.05         3.45  \n",
       "Yes               4.01         3.77  "
      ]
     },
     "execution_count": 14,
     "metadata": {},
     "output_type": "execute_result"
    }
   ],
   "source": [
    "# Pivot Table:\n",
    "\n",
    "pd.pivot_table (emotion, values = ['city_services', 'housing_cost', 'public_schools', 'trust_police', \n",
    "                                   'streets_sidewalk','social_events'], \n",
    "                index = 'happy',\n",
    "                aggfunc = [np.mean]).round(2)"
   ]
  },
  {
   "cell_type": "markdown",
   "metadata": {},
   "source": [
    " "
   ]
  },
  {
   "cell_type": "markdown",
   "metadata": {},
   "source": [
    "### Using Statsmodels to fit a logistic regression model to the data with all six scores as predictors."
   ]
  },
  {
   "cell_type": "code",
   "execution_count": 15,
   "metadata": {},
   "outputs": [],
   "source": [
    "import statsmodels.formula.api as smf\n",
    "from scipy import stats"
   ]
  },
  {
   "cell_type": "code",
   "execution_count": 16,
   "metadata": {
    "scrolled": true
   },
   "outputs": [
    {
     "data": {
      "text/html": [
       "<div>\n",
       "<style scoped>\n",
       "    .dataframe tbody tr th:only-of-type {\n",
       "        vertical-align: middle;\n",
       "    }\n",
       "\n",
       "    .dataframe tbody tr th {\n",
       "        vertical-align: top;\n",
       "    }\n",
       "\n",
       "    .dataframe thead th {\n",
       "        text-align: right;\n",
       "    }\n",
       "</style>\n",
       "<table border=\"1\" class=\"dataframe\">\n",
       "  <thead>\n",
       "    <tr style=\"text-align: right;\">\n",
       "      <th></th>\n",
       "      <th>Yes</th>\n",
       "    </tr>\n",
       "  </thead>\n",
       "  <tbody>\n",
       "    <tr>\n",
       "      <th>0</th>\n",
       "      <td>0</td>\n",
       "    </tr>\n",
       "    <tr>\n",
       "      <th>1</th>\n",
       "      <td>0</td>\n",
       "    </tr>\n",
       "    <tr>\n",
       "      <th>2</th>\n",
       "      <td>1</td>\n",
       "    </tr>\n",
       "    <tr>\n",
       "      <th>3</th>\n",
       "      <td>0</td>\n",
       "    </tr>\n",
       "    <tr>\n",
       "      <th>4</th>\n",
       "      <td>0</td>\n",
       "    </tr>\n",
       "  </tbody>\n",
       "</table>\n",
       "</div>"
      ],
      "text/plain": [
       "   Yes\n",
       "0    0\n",
       "1    0\n",
       "2    1\n",
       "3    0\n",
       "4    0"
      ]
     },
     "execution_count": 16,
     "metadata": {},
     "output_type": "execute_result"
    }
   ],
   "source": [
    "#Converting categorical column to numerical\n",
    "\n",
    "binary_happy = pd.get_dummies(emotion['happy'], drop_first = True)\n",
    "binary_happy.head()\n",
    "\n",
    "# 'No' is 0\n",
    "#' Yes' is 1"
   ]
  },
  {
   "cell_type": "code",
   "execution_count": 17,
   "metadata": {},
   "outputs": [],
   "source": [
    "# Adding the binary column to the data:\n",
    "\n",
    "emotion['binary_happy']=binary_happy "
   ]
  },
  {
   "cell_type": "code",
   "execution_count": 18,
   "metadata": {},
   "outputs": [
    {
     "data": {
      "text/html": [
       "<div>\n",
       "<style scoped>\n",
       "    .dataframe tbody tr th:only-of-type {\n",
       "        vertical-align: middle;\n",
       "    }\n",
       "\n",
       "    .dataframe tbody tr th {\n",
       "        vertical-align: top;\n",
       "    }\n",
       "\n",
       "    .dataframe thead th {\n",
       "        text-align: right;\n",
       "    }\n",
       "</style>\n",
       "<table border=\"1\" class=\"dataframe\">\n",
       "  <thead>\n",
       "    <tr style=\"text-align: right;\">\n",
       "      <th></th>\n",
       "      <th>happy</th>\n",
       "      <th>city_services</th>\n",
       "      <th>housing_cost</th>\n",
       "      <th>public_schools</th>\n",
       "      <th>trust_police</th>\n",
       "      <th>streets_sidewalk</th>\n",
       "      <th>social_events</th>\n",
       "      <th>binary_happy</th>\n",
       "    </tr>\n",
       "  </thead>\n",
       "  <tbody>\n",
       "    <tr>\n",
       "      <th>0</th>\n",
       "      <td>No</td>\n",
       "      <td>3</td>\n",
       "      <td>2.0</td>\n",
       "      <td>3.0</td>\n",
       "      <td>4.0</td>\n",
       "      <td>2</td>\n",
       "      <td>4</td>\n",
       "      <td>0</td>\n",
       "    </tr>\n",
       "    <tr>\n",
       "      <th>1</th>\n",
       "      <td>No</td>\n",
       "      <td>3</td>\n",
       "      <td>2.0</td>\n",
       "      <td>3.0</td>\n",
       "      <td>3.0</td>\n",
       "      <td>4</td>\n",
       "      <td>3</td>\n",
       "      <td>0</td>\n",
       "    </tr>\n",
       "    <tr>\n",
       "      <th>2</th>\n",
       "      <td>Yes</td>\n",
       "      <td>5</td>\n",
       "      <td>3.0</td>\n",
       "      <td>5.0</td>\n",
       "      <td>3.0</td>\n",
       "      <td>5</td>\n",
       "      <td>5</td>\n",
       "      <td>1</td>\n",
       "    </tr>\n",
       "    <tr>\n",
       "      <th>3</th>\n",
       "      <td>No</td>\n",
       "      <td>2</td>\n",
       "      <td>4.0</td>\n",
       "      <td>3.0</td>\n",
       "      <td>3.0</td>\n",
       "      <td>3</td>\n",
       "      <td>5</td>\n",
       "      <td>0</td>\n",
       "    </tr>\n",
       "    <tr>\n",
       "      <th>4</th>\n",
       "      <td>No</td>\n",
       "      <td>5</td>\n",
       "      <td>4.0</td>\n",
       "      <td>3.0</td>\n",
       "      <td>1.0</td>\n",
       "      <td>3</td>\n",
       "      <td>5</td>\n",
       "      <td>0</td>\n",
       "    </tr>\n",
       "  </tbody>\n",
       "</table>\n",
       "</div>"
      ],
      "text/plain": [
       "  happy  city_services  housing_cost  public_schools  trust_police  \\\n",
       "0    No              3           2.0             3.0           4.0   \n",
       "1    No              3           2.0             3.0           3.0   \n",
       "2   Yes              5           3.0             5.0           3.0   \n",
       "3    No              2           4.0             3.0           3.0   \n",
       "4    No              5           4.0             3.0           1.0   \n",
       "\n",
       "   streets_sidewalk  social_events  binary_happy  \n",
       "0                 2              4             0  \n",
       "1                 4              3             0  \n",
       "2                 5              5             1  \n",
       "3                 3              5             0  \n",
       "4                 3              5             0  "
      ]
     },
     "execution_count": 18,
     "metadata": {},
     "output_type": "execute_result"
    }
   ],
   "source": [
    "emotion.head()"
   ]
  },
  {
   "cell_type": "code",
   "execution_count": 19,
   "metadata": {
    "scrolled": false
   },
   "outputs": [
    {
     "name": "stdout",
     "output_type": "stream",
     "text": [
      "Optimization terminated successfully.\n",
      "         Current function value: 0.458132\n",
      "         Iterations 7\n",
      "                           Logit Regression Results                           \n",
      "==============================================================================\n",
      "Dep. Variable:           binary_happy   No. Observations:                  140\n",
      "Model:                          Logit   Df Residuals:                      133\n",
      "Method:                           MLE   Df Model:                            6\n",
      "Date:                Wed, 02 Feb 2022   Pseudo R-squ.:                  0.3366\n",
      "Time:                        20:17:11   Log-Likelihood:                -64.138\n",
      "converged:                       True   LL-Null:                       -96.683\n",
      "Covariance Type:            nonrobust   LLR p-value:                 4.136e-12\n",
      "====================================================================================\n",
      "                       coef    std err          z      P>|z|      [0.025      0.975]\n",
      "------------------------------------------------------------------------------------\n",
      "Intercept          -11.7355      2.376     -4.939      0.000     -16.393      -7.078\n",
      "city_services        1.1972      0.316      3.788      0.000       0.578       1.817\n",
      "housing_cost         0.7284      0.231      3.147      0.002       0.275       1.182\n",
      "public_schools       0.5655      0.253      2.237      0.025       0.070       1.061\n",
      "trust_police         0.3268      0.263      1.245      0.213      -0.188       0.841\n",
      "streets_sidewalk     0.5339      0.214      2.494      0.013       0.114       0.953\n",
      "social_events       -0.0402      0.291     -0.138      0.890      -0.611       0.531\n",
      "====================================================================================\n"
     ]
    }
   ],
   "source": [
    "predictors = 'binary_happy ~ city_services + housing_cost+ public_schools+ trust_police+ streets_sidewalk +social_events'\n",
    "\n",
    "emotion_stats = smf.logit (formula = predictors , data = emotion).fit()\n",
    "print (emotion_stats.summary())"
   ]
  },
  {
   "cell_type": "markdown",
   "metadata": {},
   "source": [
    "### Explanation: \n",
    "#### The scores of **trust_police , social_events** are not significant at a 95% confidence level as their confidence interval has a negative lower bound value to positive upper bound value and thus, zero falls between them. Also, their p-value is greater than our significance level, 𝛼 = 0.05\n",
    "#### Whereas the scores of 'city_services', 'housing_cost', 'public_schools' and 'streets_sidewalk' are the significant predictors as their p-value is lesser than 𝛼 = 0.05"
   ]
  },
  {
   "cell_type": "markdown",
   "metadata": {},
   "source": [
    " "
   ]
  },
  {
   "cell_type": "markdown",
   "metadata": {},
   "source": [
    " "
   ]
  },
  {
   "cell_type": "markdown",
   "metadata": {},
   "source": [
    "### Dropping all the predictors that were not significant and fitting a new model with the remaining predictors."
   ]
  },
  {
   "cell_type": "code",
   "execution_count": 20,
   "metadata": {},
   "outputs": [
    {
     "name": "stdout",
     "output_type": "stream",
     "text": [
      "Optimization terminated successfully.\n",
      "         Current function value: 0.463724\n",
      "         Iterations 7\n",
      "                           Logit Regression Results                           \n",
      "==============================================================================\n",
      "Dep. Variable:           binary_happy   No. Observations:                  140\n",
      "Model:                          Logit   Df Residuals:                      135\n",
      "Method:                           MLE   Df Model:                            4\n",
      "Date:                Wed, 02 Feb 2022   Pseudo R-squ.:                  0.3285\n",
      "Time:                        20:17:11   Log-Likelihood:                -64.921\n",
      "converged:                       True   LL-Null:                       -96.683\n",
      "Covariance Type:            nonrobust   LLR p-value:                 5.265e-13\n",
      "====================================================================================\n",
      "                       coef    std err          z      P>|z|      [0.025      0.975]\n",
      "------------------------------------------------------------------------------------\n",
      "Intercept          -10.5915      1.879     -5.638      0.000     -14.273      -6.910\n",
      "city_services        1.1494      0.301      3.815      0.000       0.559       1.740\n",
      "housing_cost         0.6527      0.218      2.999      0.003       0.226       1.079\n",
      "public_schools       0.6248      0.247      2.532      0.011       0.141       1.108\n",
      "streets_sidewalk     0.5607      0.209      2.680      0.007       0.151       0.971\n",
      "====================================================================================\n"
     ]
    }
   ],
   "source": [
    "signi_predictors = 'binary_happy ~ city_services + housing_cost+ public_schools+ + streets_sidewalk'\n",
    "\n",
    "signi_emotion_stats = smf.logit (formula = signi_predictors , data = emotion).fit()\n",
    "print (signi_emotion_stats.summary())"
   ]
  },
  {
   "cell_type": "code",
   "execution_count": 21,
   "metadata": {},
   "outputs": [
    {
     "data": {
      "text/plain": [
       "Intercept          -10.591540\n",
       "city_services        1.149402\n",
       "housing_cost         0.652744\n",
       "public_schools       0.624763\n",
       "streets_sidewalk     0.560722\n",
       "dtype: float64"
      ]
     },
     "execution_count": 21,
     "metadata": {},
     "output_type": "execute_result"
    }
   ],
   "source": [
    "params = signi_emotion_stats.params\n",
    "params"
   ]
  },
  {
   "cell_type": "markdown",
   "metadata": {},
   "source": [
    "## Fitted Model:"
   ]
  },
  {
   "cell_type": "markdown",
   "metadata": {},
   "source": [
    "###    $$\\frac{p(x)}{1-p(x)}=e^{\\beta_0+\\beta_1x}$$"
   ]
  },
  {
   "cell_type": "markdown",
   "metadata": {},
   "source": [
    "###    $$\\frac{p(x)}{1-p(x)}=e^{-10.6167 + \\text{(1.1515 * city_services)} + \\text{(0.6544 * housing_cost)} + \\text{(0.6272 * public_schools)} + \\text{(0.5620 * streets_sidewalk)}} $$"
   ]
  },
  {
   "cell_type": "code",
   "execution_count": 22,
   "metadata": {},
   "outputs": [
    {
     "name": "stdout",
     "output_type": "stream",
     "text": [
      "beta_0: 2.513e-05\n",
      "beta_1: 3.156\n",
      "beta_2: 1.921\n",
      "beta_3: 1.868\n",
      "beta_4: 1.752\n"
     ]
    }
   ],
   "source": [
    "# Finding the exponents of the parameters :\n",
    "\n",
    "print ('beta_0:', np.exp(params[0]).round(8))\n",
    "print ('beta_1:', np.exp(params[1]).round(3))\n",
    "print ('beta_2:', np.exp(params[2]).round(3))\n",
    "print ('beta_3:', np.exp(params[3]).round(3))\n",
    "print ('beta_4:', np.exp(params[4]).round(3))"
   ]
  },
  {
   "cell_type": "markdown",
   "metadata": {},
   "source": [
    "### Interpretation:\n",
    "\n",
    "#### For the city_services predictor, its associated estimated coefficient is 3.156.\n",
    "#### This means that based on our logistic regression model, if we increase the city_services rating by 1, the probability of being happy will be increased by a ratio of 3.156"
   ]
  },
  {
   "cell_type": "markdown",
   "metadata": {},
   "source": [
    " "
   ]
  },
  {
   "cell_type": "markdown",
   "metadata": {},
   "source": [
    "## Train-Test Split method\n",
    "#### We will be using the train/test split method from scikit-learn by splitting the data to 75% (training set) and 25% (test set) and the random_state set to 11."
   ]
  },
  {
   "cell_type": "code",
   "execution_count": 23,
   "metadata": {},
   "outputs": [
    {
     "data": {
      "text/html": [
       "<div>\n",
       "<style scoped>\n",
       "    .dataframe tbody tr th:only-of-type {\n",
       "        vertical-align: middle;\n",
       "    }\n",
       "\n",
       "    .dataframe tbody tr th {\n",
       "        vertical-align: top;\n",
       "    }\n",
       "\n",
       "    .dataframe thead th {\n",
       "        text-align: right;\n",
       "    }\n",
       "</style>\n",
       "<table border=\"1\" class=\"dataframe\">\n",
       "  <thead>\n",
       "    <tr style=\"text-align: right;\">\n",
       "      <th></th>\n",
       "      <th>happy</th>\n",
       "      <th>city_services</th>\n",
       "      <th>housing_cost</th>\n",
       "      <th>public_schools</th>\n",
       "      <th>trust_police</th>\n",
       "      <th>streets_sidewalk</th>\n",
       "      <th>social_events</th>\n",
       "      <th>binary_happy</th>\n",
       "    </tr>\n",
       "  </thead>\n",
       "  <tbody>\n",
       "    <tr>\n",
       "      <th>0</th>\n",
       "      <td>No</td>\n",
       "      <td>3</td>\n",
       "      <td>2.0</td>\n",
       "      <td>3.0</td>\n",
       "      <td>4.0</td>\n",
       "      <td>2</td>\n",
       "      <td>4</td>\n",
       "      <td>0</td>\n",
       "    </tr>\n",
       "    <tr>\n",
       "      <th>1</th>\n",
       "      <td>No</td>\n",
       "      <td>3</td>\n",
       "      <td>2.0</td>\n",
       "      <td>3.0</td>\n",
       "      <td>3.0</td>\n",
       "      <td>4</td>\n",
       "      <td>3</td>\n",
       "      <td>0</td>\n",
       "    </tr>\n",
       "  </tbody>\n",
       "</table>\n",
       "</div>"
      ],
      "text/plain": [
       "  happy  city_services  housing_cost  public_schools  trust_police  \\\n",
       "0    No              3           2.0             3.0           4.0   \n",
       "1    No              3           2.0             3.0           3.0   \n",
       "\n",
       "   streets_sidewalk  social_events  binary_happy  \n",
       "0                 2              4             0  \n",
       "1                 4              3             0  "
      ]
     },
     "execution_count": 23,
     "metadata": {},
     "output_type": "execute_result"
    }
   ],
   "source": [
    "emotion.head(2)"
   ]
  },
  {
   "cell_type": "markdown",
   "metadata": {},
   "source": [
    "#### Using train_test_split to split the data:"
   ]
  },
  {
   "cell_type": "code",
   "execution_count": 24,
   "metadata": {},
   "outputs": [],
   "source": [
    "y = emotion['binary_happy']\n",
    "\n",
    "X = emotion[['city_services', 'housing_cost', 'public_schools', 'trust_police', 'streets_sidewalk','social_events']]"
   ]
  },
  {
   "cell_type": "code",
   "execution_count": 25,
   "metadata": {},
   "outputs": [],
   "source": [
    "from sklearn.model_selection import train_test_split\n",
    "\n",
    "X_train, X_test, y_train, y_test = train_test_split (X, y, test_size = 0.25, random_state = 11)"
   ]
  },
  {
   "cell_type": "markdown",
   "metadata": {},
   "source": [
    "### Fitting the logistic regression model:"
   ]
  },
  {
   "cell_type": "code",
   "execution_count": 26,
   "metadata": {},
   "outputs": [
    {
     "data": {
      "text/plain": [
       "LogisticRegression()"
      ]
     },
     "execution_count": 26,
     "metadata": {},
     "output_type": "execute_result"
    }
   ],
   "source": [
    "from sklearn.linear_model import LogisticRegression\n",
    "\n",
    "lor = LogisticRegression()\n",
    "\n",
    "lor.fit(X_train, y_train)"
   ]
  },
  {
   "cell_type": "markdown",
   "metadata": {},
   "source": [
    "### Making predictions from our model:"
   ]
  },
  {
   "cell_type": "code",
   "execution_count": 27,
   "metadata": {},
   "outputs": [
    {
     "data": {
      "text/plain": [
       "array([0.677, 0.15 , 0.883, 0.851, 0.869, 0.859, 0.097, 0.771, 0.035,\n",
       "       0.4  , 0.869, 0.697, 0.374, 0.936, 0.63 , 0.777, 0.249, 0.728,\n",
       "       0.977, 0.911, 0.888, 0.078, 0.709, 0.928, 0.368, 0.821, 0.75 ,\n",
       "       0.944, 0.848, 0.911, 0.872, 0.953, 0.64 , 0.006, 0.466])"
      ]
     },
     "execution_count": 27,
     "metadata": {},
     "output_type": "execute_result"
    }
   ],
   "source": [
    "# Predicition Probability with the test data:\n",
    "\n",
    "y_predprob = lor.predict_proba(X_test)[:,1].round(3)\n",
    "y_predprob "
   ]
  },
  {
   "cell_type": "code",
   "execution_count": 28,
   "metadata": {},
   "outputs": [
    {
     "data": {
      "text/plain": [
       "array([1, 0, 1, 1, 1, 1, 0, 1, 0, 0, 1, 1, 0, 1, 1, 1, 0, 1, 1, 1, 1, 0,\n",
       "       1, 1, 0, 1, 1, 1, 1, 1, 1, 1, 1, 0, 0], dtype=uint8)"
      ]
     },
     "execution_count": 28,
     "metadata": {},
     "output_type": "execute_result"
    }
   ],
   "source": [
    "# Predicition with the test data:\n",
    "\n",
    "y_pred = lor.predict (X_test)\n",
    "y_pred"
   ]
  },
  {
   "cell_type": "code",
   "execution_count": 29,
   "metadata": {},
   "outputs": [
    {
     "data": {
      "text/plain": [
       "array([[1.   , 1.   , 0.677],\n",
       "       [0.   , 0.   , 0.15 ],\n",
       "       [1.   , 1.   , 0.883],\n",
       "       [1.   , 1.   , 0.851],\n",
       "       [1.   , 1.   , 0.869],\n",
       "       [0.   , 1.   , 0.859],\n",
       "       [0.   , 0.   , 0.097],\n",
       "       [0.   , 1.   , 0.771],\n",
       "       [0.   , 0.   , 0.035],\n",
       "       [1.   , 0.   , 0.4  ],\n",
       "       [1.   , 1.   , 0.869],\n",
       "       [1.   , 1.   , 0.697],\n",
       "       [0.   , 0.   , 0.374],\n",
       "       [1.   , 1.   , 0.936],\n",
       "       [1.   , 1.   , 0.63 ],\n",
       "       [0.   , 1.   , 0.777],\n",
       "       [0.   , 0.   , 0.249],\n",
       "       [0.   , 1.   , 0.728],\n",
       "       [1.   , 1.   , 0.977],\n",
       "       [1.   , 1.   , 0.911],\n",
       "       [1.   , 1.   , 0.888],\n",
       "       [0.   , 0.   , 0.078],\n",
       "       [1.   , 1.   , 0.709],\n",
       "       [1.   , 1.   , 0.928],\n",
       "       [0.   , 0.   , 0.368],\n",
       "       [0.   , 1.   , 0.821],\n",
       "       [0.   , 1.   , 0.75 ],\n",
       "       [1.   , 1.   , 0.944],\n",
       "       [1.   , 1.   , 0.848],\n",
       "       [1.   , 1.   , 0.911],\n",
       "       [0.   , 1.   , 0.872],\n",
       "       [1.   , 1.   , 0.953],\n",
       "       [1.   , 1.   , 0.64 ],\n",
       "       [0.   , 0.   , 0.006],\n",
       "       [0.   , 0.   , 0.466]])"
      ]
     },
     "execution_count": 29,
     "metadata": {},
     "output_type": "execute_result"
    }
   ],
   "source": [
    "# Actual data, Predicted data, Associated Probability of being happy\n",
    "\n",
    "np.column_stack((y_test, y_pred, y_predprob))"
   ]
  },
  {
   "cell_type": "markdown",
   "metadata": {},
   "source": [
    "## Confusion Matrix:"
   ]
  },
  {
   "cell_type": "code",
   "execution_count": 30,
   "metadata": {},
   "outputs": [
    {
     "data": {
      "text/plain": [
       "array([[ 9,  7],\n",
       "       [ 1, 18]], dtype=int64)"
      ]
     },
     "execution_count": 30,
     "metadata": {},
     "output_type": "execute_result"
    }
   ],
   "source": [
    "from sklearn import metrics\n",
    "\n",
    "conf_mat = metrics.confusion_matrix(y_test, y_pred)\n",
    "conf_mat"
   ]
  },
  {
   "cell_type": "code",
   "execution_count": 31,
   "metadata": {},
   "outputs": [
    {
     "data": {
      "text/html": [
       "<div>\n",
       "<style scoped>\n",
       "    .dataframe tbody tr th:only-of-type {\n",
       "        vertical-align: middle;\n",
       "    }\n",
       "\n",
       "    .dataframe tbody tr th {\n",
       "        vertical-align: top;\n",
       "    }\n",
       "\n",
       "    .dataframe thead th {\n",
       "        text-align: right;\n",
       "    }\n",
       "</style>\n",
       "<table border=\"1\" class=\"dataframe\">\n",
       "  <thead>\n",
       "    <tr style=\"text-align: right;\">\n",
       "      <th></th>\n",
       "      <th>pred: No</th>\n",
       "      <th>pred: Yes</th>\n",
       "    </tr>\n",
       "  </thead>\n",
       "  <tbody>\n",
       "    <tr>\n",
       "      <th>test: No</th>\n",
       "      <td>9</td>\n",
       "      <td>7</td>\n",
       "    </tr>\n",
       "    <tr>\n",
       "      <th>test: Yes</th>\n",
       "      <td>1</td>\n",
       "      <td>18</td>\n",
       "    </tr>\n",
       "  </tbody>\n",
       "</table>\n",
       "</div>"
      ],
      "text/plain": [
       "           pred: No  pred: Yes\n",
       "test: No          9          7\n",
       "test: Yes         1         18"
      ]
     },
     "execution_count": 31,
     "metadata": {},
     "output_type": "execute_result"
    }
   ],
   "source": [
    "# Confusion Matrix in dataframe format:\n",
    "\n",
    "dfconfmat = pd.DataFrame(data = conf_mat, columns = ['pred: No', 'pred: Yes'], index = ['test: No','test: Yes'])\n",
    "dfconfmat"
   ]
  },
  {
   "cell_type": "code",
   "execution_count": 32,
   "metadata": {},
   "outputs": [],
   "source": [
    "# True Negative\n",
    "TN = dfconfmat['pred: No'][0]\n",
    "\n",
    "# True Positive\n",
    "TP = dfconfmat['pred: Yes'][1]\n",
    "\n",
    "# False Negative\n",
    "FN = dfconfmat['pred: No'][1]\n",
    "\n",
    "# False Positive\n",
    "FP = dfconfmat['pred: Yes'][0]"
   ]
  },
  {
   "cell_type": "markdown",
   "metadata": {},
   "source": [
    "## Metrics:"
   ]
  },
  {
   "cell_type": "code",
   "execution_count": 33,
   "metadata": {},
   "outputs": [
    {
     "name": "stdout",
     "output_type": "stream",
     "text": [
      "The accuracy is: 0.7714285714285715\n"
     ]
    }
   ],
   "source": [
    "# Accuracy Check:\n",
    "\n",
    "accuracy = metrics.accuracy_score (y_test, y_pred)\n",
    "\n",
    "print ('The accuracy is:' , accuracy)"
   ]
  },
  {
   "cell_type": "code",
   "execution_count": 34,
   "metadata": {},
   "outputs": [
    {
     "name": "stdout",
     "output_type": "stream",
     "text": [
      "The precision is: 0.72\n"
     ]
    }
   ],
   "source": [
    "# Precision:\n",
    "\n",
    "precision = TP / (FP + TP)\n",
    "\n",
    "print ('The precision is:' , precision)"
   ]
  },
  {
   "cell_type": "code",
   "execution_count": 35,
   "metadata": {},
   "outputs": [
    {
     "name": "stdout",
     "output_type": "stream",
     "text": [
      "The recall is: 0.9473684210526315\n"
     ]
    }
   ],
   "source": [
    "# Recall\n",
    "\n",
    "recall = TP / (TP + FN)\n",
    "print ('The recall is:' , recall)"
   ]
  },
  {
   "cell_type": "code",
   "execution_count": 36,
   "metadata": {},
   "outputs": [
    {
     "name": "stdout",
     "output_type": "stream",
     "text": [
      "The specificity is: 0.5625\n"
     ]
    }
   ],
   "source": [
    "# Specificity:\n",
    "\n",
    "specificity = TN / (TN + FP)\n",
    "print ('The specificity is:' , specificity)"
   ]
  },
  {
   "cell_type": "code",
   "execution_count": 37,
   "metadata": {},
   "outputs": [
    {
     "name": "stdout",
     "output_type": "stream",
     "text": [
      "False ALarm Rate: 0.4375\n"
     ]
    }
   ],
   "source": [
    "# False ALarm Rate:\n",
    "\n",
    "F_A_R = FP / (FP + TN)\n",
    "print ('False ALarm Rate:' , F_A_R )"
   ]
  },
  {
   "cell_type": "code",
   "execution_count": 38,
   "metadata": {},
   "outputs": [
    {
     "name": "stdout",
     "output_type": "stream",
     "text": [
      "F1 score: 0.818\n"
     ]
    }
   ],
   "source": [
    "# F1 score:\n",
    "# It is interpreted as a harmonic mean of the precision and recall\n",
    "\n",
    "F1 = (2 * ((precision * recall) / (precision + recall))).round(3)\n",
    "print ('F1 score:' , F1 )"
   ]
  },
  {
   "cell_type": "markdown",
   "metadata": {},
   "source": [
    "### Using the model to predict based on the input data given below:\n",
    "\n",
    "\n",
    "|| city_services | housing_cost | public_schools | trust_police | streets_sidewalk | social_events |\n",
    "|-|-|-|-|-|-|-|\n",
    "|Eleanor|4|2|3|5|4|4|\n",
    "| Chidi |4|4|4|2|4|1|"
   ]
  },
  {
   "cell_type": "markdown",
   "metadata": {},
   "source": [
    "#### Predicting by creating a dataframe of the input data:"
   ]
  },
  {
   "cell_type": "code",
   "execution_count": 39,
   "metadata": {
    "scrolled": true
   },
   "outputs": [
    {
     "data": {
      "text/html": [
       "<div>\n",
       "<style scoped>\n",
       "    .dataframe tbody tr th:only-of-type {\n",
       "        vertical-align: middle;\n",
       "    }\n",
       "\n",
       "    .dataframe tbody tr th {\n",
       "        vertical-align: top;\n",
       "    }\n",
       "\n",
       "    .dataframe thead th {\n",
       "        text-align: right;\n",
       "    }\n",
       "</style>\n",
       "<table border=\"1\" class=\"dataframe\">\n",
       "  <thead>\n",
       "    <tr style=\"text-align: right;\">\n",
       "      <th></th>\n",
       "      <th>city_services</th>\n",
       "      <th>housing_cost</th>\n",
       "      <th>public_schools</th>\n",
       "      <th>trust_police</th>\n",
       "      <th>streets_sidewalk</th>\n",
       "      <th>social_events</th>\n",
       "    </tr>\n",
       "  </thead>\n",
       "  <tbody>\n",
       "    <tr>\n",
       "      <th>0</th>\n",
       "      <td>4</td>\n",
       "      <td>2</td>\n",
       "      <td>3</td>\n",
       "      <td>5</td>\n",
       "      <td>4</td>\n",
       "      <td>4</td>\n",
       "    </tr>\n",
       "    <tr>\n",
       "      <th>1</th>\n",
       "      <td>4</td>\n",
       "      <td>4</td>\n",
       "      <td>4</td>\n",
       "      <td>2</td>\n",
       "      <td>4</td>\n",
       "      <td>1</td>\n",
       "    </tr>\n",
       "  </tbody>\n",
       "</table>\n",
       "</div>"
      ],
      "text/plain": [
       "   city_services  housing_cost  public_schools  trust_police  \\\n",
       "0              4             2               3             5   \n",
       "1              4             4               4             2   \n",
       "\n",
       "   streets_sidewalk  social_events  \n",
       "0                 4              4  \n",
       "1                 4              1  "
      ]
     },
     "execution_count": 39,
     "metadata": {},
     "output_type": "execute_result"
    }
   ],
   "source": [
    "test_dict = {'city_services':[4,4], 'housing_cost':[2,4],'public_schools':[3,4],'trust_police':[5,2],'streets_sidewalk':[4,4],'social_events':[4,1]}\n",
    "input_test = pd.DataFrame(test_dict)\n",
    "\n",
    "input_test"
   ]
  },
  {
   "cell_type": "code",
   "execution_count": 40,
   "metadata": {},
   "outputs": [
    {
     "name": "stdout",
     "output_type": "stream",
     "text": [
      "[[0.44382641 0.55617359]\n",
      " [0.27922531 0.72077469]]\n",
      "[1 1]\n"
     ]
    }
   ],
   "source": [
    "print (lor.predict_proba(input_test))\n",
    "print (lor.predict(input_test))"
   ]
  },
  {
   "cell_type": "markdown",
   "metadata": {},
   "source": [
    "### Based on the scores they gave, our model's output: '1' which is 'Yes' predicted that both Elenaor and Chidi are happy. The probability percentage of our model for them being happy was 55.6% and 79.6% respectively."
   ]
  },
  {
   "cell_type": "markdown",
   "metadata": {},
   "source": [
    " "
   ]
  },
  {
   "cell_type": "markdown",
   "metadata": {},
   "source": [
    "## Cross-Validation\n",
    "#### Using 5-fold cross-validation to compare the model with all six predictors with the model after dropping the insignificant predictors."
   ]
  },
  {
   "cell_type": "code",
   "execution_count": 41,
   "metadata": {},
   "outputs": [
    {
     "data": {
      "text/html": [
       "<div>\n",
       "<style scoped>\n",
       "    .dataframe tbody tr th:only-of-type {\n",
       "        vertical-align: middle;\n",
       "    }\n",
       "\n",
       "    .dataframe tbody tr th {\n",
       "        vertical-align: top;\n",
       "    }\n",
       "\n",
       "    .dataframe thead th {\n",
       "        text-align: right;\n",
       "    }\n",
       "</style>\n",
       "<table border=\"1\" class=\"dataframe\">\n",
       "  <thead>\n",
       "    <tr style=\"text-align: right;\">\n",
       "      <th></th>\n",
       "      <th>happy</th>\n",
       "      <th>city_services</th>\n",
       "      <th>housing_cost</th>\n",
       "      <th>public_schools</th>\n",
       "      <th>trust_police</th>\n",
       "      <th>streets_sidewalk</th>\n",
       "      <th>social_events</th>\n",
       "      <th>binary_happy</th>\n",
       "    </tr>\n",
       "  </thead>\n",
       "  <tbody>\n",
       "    <tr>\n",
       "      <th>0</th>\n",
       "      <td>No</td>\n",
       "      <td>3</td>\n",
       "      <td>2.0</td>\n",
       "      <td>3.0</td>\n",
       "      <td>4.0</td>\n",
       "      <td>2</td>\n",
       "      <td>4</td>\n",
       "      <td>0</td>\n",
       "    </tr>\n",
       "    <tr>\n",
       "      <th>1</th>\n",
       "      <td>No</td>\n",
       "      <td>3</td>\n",
       "      <td>2.0</td>\n",
       "      <td>3.0</td>\n",
       "      <td>3.0</td>\n",
       "      <td>4</td>\n",
       "      <td>3</td>\n",
       "      <td>0</td>\n",
       "    </tr>\n",
       "    <tr>\n",
       "      <th>2</th>\n",
       "      <td>Yes</td>\n",
       "      <td>5</td>\n",
       "      <td>3.0</td>\n",
       "      <td>5.0</td>\n",
       "      <td>3.0</td>\n",
       "      <td>5</td>\n",
       "      <td>5</td>\n",
       "      <td>1</td>\n",
       "    </tr>\n",
       "    <tr>\n",
       "      <th>3</th>\n",
       "      <td>No</td>\n",
       "      <td>2</td>\n",
       "      <td>4.0</td>\n",
       "      <td>3.0</td>\n",
       "      <td>3.0</td>\n",
       "      <td>3</td>\n",
       "      <td>5</td>\n",
       "      <td>0</td>\n",
       "    </tr>\n",
       "    <tr>\n",
       "      <th>4</th>\n",
       "      <td>No</td>\n",
       "      <td>5</td>\n",
       "      <td>4.0</td>\n",
       "      <td>3.0</td>\n",
       "      <td>1.0</td>\n",
       "      <td>3</td>\n",
       "      <td>5</td>\n",
       "      <td>0</td>\n",
       "    </tr>\n",
       "  </tbody>\n",
       "</table>\n",
       "</div>"
      ],
      "text/plain": [
       "  happy  city_services  housing_cost  public_schools  trust_police  \\\n",
       "0    No              3           2.0             3.0           4.0   \n",
       "1    No              3           2.0             3.0           3.0   \n",
       "2   Yes              5           3.0             5.0           3.0   \n",
       "3    No              2           4.0             3.0           3.0   \n",
       "4    No              5           4.0             3.0           1.0   \n",
       "\n",
       "   streets_sidewalk  social_events  binary_happy  \n",
       "0                 2              4             0  \n",
       "1                 4              3             0  \n",
       "2                 5              5             1  \n",
       "3                 3              5             0  \n",
       "4                 3              5             0  "
      ]
     },
     "execution_count": 41,
     "metadata": {},
     "output_type": "execute_result"
    }
   ],
   "source": [
    "emotion.head()"
   ]
  },
  {
   "cell_type": "code",
   "execution_count": 42,
   "metadata": {},
   "outputs": [],
   "source": [
    "from sklearn.model_selection import cross_val_score\n",
    "from sklearn.linear_model import LogisticRegression\n",
    "\n",
    "crossLOR = LogisticRegression()"
   ]
  },
  {
   "cell_type": "markdown",
   "metadata": {},
   "source": [
    "#### Model 1 (with all predictors):"
   ]
  },
  {
   "cell_type": "code",
   "execution_count": 43,
   "metadata": {},
   "outputs": [],
   "source": [
    "X_allpred = emotion[['city_services', 'housing_cost', 'public_schools', 'trust_police', 'streets_sidewalk','social_events']]"
   ]
  },
  {
   "cell_type": "code",
   "execution_count": 44,
   "metadata": {},
   "outputs": [],
   "source": [
    "y_allpred = emotion['binary_happy']"
   ]
  },
  {
   "cell_type": "code",
   "execution_count": 45,
   "metadata": {},
   "outputs": [
    {
     "name": "stdout",
     "output_type": "stream",
     "text": [
      "71.43 % is the accuracy for our Model 1.\n"
     ]
    }
   ],
   "source": [
    "Model1 = cross_val_score ( crossLOR, X_allpred, y_allpred, cv = 5, scoring = 'accuracy').mean()\n",
    "\n",
    "print ((Model1*100).round(2), ('% is the accuracy for our Model 1.'))"
   ]
  },
  {
   "cell_type": "markdown",
   "metadata": {},
   "source": [
    "#### Model 2 (after dropping insignificant predictors):"
   ]
  },
  {
   "cell_type": "code",
   "execution_count": 46,
   "metadata": {},
   "outputs": [],
   "source": [
    "X_sigpred = emotion[['city_services', 'housing_cost', 'public_schools', 'streets_sidewalk']]"
   ]
  },
  {
   "cell_type": "code",
   "execution_count": 47,
   "metadata": {},
   "outputs": [],
   "source": [
    "y_sigpred = emotion['binary_happy']"
   ]
  },
  {
   "cell_type": "code",
   "execution_count": 48,
   "metadata": {},
   "outputs": [
    {
     "name": "stdout",
     "output_type": "stream",
     "text": [
      "75.71 % is the accuracy for our Model 2.\n"
     ]
    }
   ],
   "source": [
    "Model2 = cross_val_score ( crossLOR, X_sigpred, y_sigpred, cv = 5, scoring = 'accuracy').mean()\n",
    "\n",
    "print ((Model2*100).round(2), ('% is the accuracy for our Model 2.'))"
   ]
  },
  {
   "cell_type": "markdown",
   "metadata": {},
   "source": [
    "### Based on the model accuracy, Model 2 is better as it has a accuracy of 75.71% when compared to Model 1 which has a accuracy of 71.43%\n",
    "### It is because **Model 2** doesn't consist of non-signficant predictors. Significant predictors are those whose p-value was lesser than 𝛼 = 0.05"
   ]
  },
  {
   "cell_type": "markdown",
   "metadata": {},
   "source": [
    " "
   ]
  },
  {
   "cell_type": "markdown",
   "metadata": {},
   "source": [
    "## Thank You!\n",
    "---"
   ]
  }
 ],
 "metadata": {
  "kernelspec": {
   "display_name": "Python 3",
   "language": "python",
   "name": "python3"
  },
  "language_info": {
   "codemirror_mode": {
    "name": "ipython",
    "version": 3
   },
   "file_extension": ".py",
   "mimetype": "text/x-python",
   "name": "python",
   "nbconvert_exporter": "python",
   "pygments_lexer": "ipython3",
   "version": "3.8.3"
  }
 },
 "nbformat": 4,
 "nbformat_minor": 2
}
